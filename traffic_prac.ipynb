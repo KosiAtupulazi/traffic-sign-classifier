{
 "cells": [
  {
   "cell_type": "code",
   "execution_count": 13,
   "metadata": {},
   "outputs": [],
   "source": [
    "import os\n",
    "import matplotlib.image as mpimg\n",
    "import matplotlib.pyplot as plt\n"
   ]
  },
  {
   "cell_type": "code",
   "execution_count": null,
   "metadata": {},
   "outputs": [
    {
     "ename": "FileNotFoundError",
     "evalue": "[WinError 3] The system cannot find the path specified: '/home/atupulazi/personal_projects/traffic-sign-classifier/lisa_sample/sample-dayClip6'",
     "output_type": "error",
     "traceback": [
      "\u001b[1;31m---------------------------------------------------------------------------\u001b[0m",
      "\u001b[1;31mFileNotFoundError\u001b[0m                         Traceback (most recent call last)",
      "Cell \u001b[1;32mIn[15], line 6\u001b[0m\n\u001b[0;32m      2\u001b[0m night_image_dir \u001b[38;5;241m=\u001b[39m \u001b[38;5;124m\"\u001b[39m\u001b[38;5;124m/home/atupulazi/personal_projects/traffic-sign-classifier/lisa_sample/sample-nightClip1/sample-nightClip1\u001b[39m\u001b[38;5;124m\"\u001b[39m\n\u001b[0;32m      5\u001b[0m \u001b[38;5;66;03m#read the image files folder\u001b[39;00m\n\u001b[1;32m----> 6\u001b[0m day_frames \u001b[38;5;241m=\u001b[39m \u001b[43mos\u001b[49m\u001b[38;5;241;43m.\u001b[39;49m\u001b[43mlistdir\u001b[49m\u001b[43m(\u001b[49m\u001b[43mday_image_dir\u001b[49m\u001b[43m)\u001b[49m\n\u001b[0;32m      7\u001b[0m night_frames \u001b[38;5;241m=\u001b[39m os\u001b[38;5;241m.\u001b[39mlistdir(night_image_dir)\n",
      "\u001b[1;31mFileNotFoundError\u001b[0m: [WinError 3] The system cannot find the path specified: '/home/atupulazi/personal_projects/traffic-sign-classifier/lisa_sample/sample-dayClip6'"
     ]
    }
   ],
   "source": [
    "#get file path\n",
    "day_image_dir = \"/home/atupulazi/personal_projects/traffic-sign-classifier/lisa_sample/sample-dayClip6\"\n",
    "night_image_dir = \"/home/atupulazi/personal_projects/traffic-sign-classifier/lisa_sample/sample-nightClip1/sample-nightClip1\"\n",
    "\n",
    "\n",
    "#read the image files folder\n",
    "day_frames = os.listdir(day_image_dir)\n",
    "night_frames = os.listdir(night_image_dir)"
   ]
  },
  {
   "cell_type": "code",
   "execution_count": null,
   "metadata": {},
   "outputs": [],
   "source": [
    "print(f\"This i sthe length of the day frames {len(day_frames)}\")"
   ]
  },
  {
   "cell_type": "code",
   "execution_count": null,
   "metadata": {},
   "outputs": [],
   "source": [
    "#display the images in a grid\n",
    "\n",
    "fig, ax = plt.subplots(nrows = 1, ncols = 10, figsize= (50,50))\n",
    "\n",
    "for i in range(len(day_frames)):\n",
    "    #loop through all the frames\n",
    "    img = day_frames[i]\n",
    "    img_path = os.path.join(day_image_dir, img)\n",
    "    show_img = mpimg.imread(img_path)\n",
    "\n",
    "    ax[i] = (show_img)\n",
    "    #ax[i].axis('off')\n",
    "\n",
    "plt.show()"
   ]
  },
  {
   "cell_type": "code",
   "execution_count": null,
   "metadata": {},
   "outputs": [],
   "source": [
    "# display tehe annotation table\n"
   ]
  },
  {
   "cell_type": "code",
   "execution_count": null,
   "metadata": {},
   "outputs": [],
   "source": [
    "# get the annotation classes\n"
   ]
  },
  {
   "cell_type": "code",
   "execution_count": null,
   "metadata": {},
   "outputs": [],
   "source": [
    "# make a bar graph of the annotation classes"
   ]
  }
 ],
 "metadata": {
  "kernelspec": {
   "display_name": "Python 3",
   "language": "python",
   "name": "python3"
  },
  "language_info": {
   "codemirror_mode": {
    "name": "ipython",
    "version": 3
   },
   "file_extension": ".py",
   "mimetype": "text/x-python",
   "name": "python",
   "nbconvert_exporter": "python",
   "pygments_lexer": "ipython3",
   "version": "3.11.2"
  }
 },
 "nbformat": 4,
 "nbformat_minor": 2
}
